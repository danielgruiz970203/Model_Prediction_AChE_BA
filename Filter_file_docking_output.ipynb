{
 "cells": [
  {
   "cell_type": "code",
   "execution_count": 6,
   "metadata": {},
   "outputs": [],
   "source": [
    "import pandas as pd\n"
   ]
  },
  {
   "cell_type": "code",
   "execution_count": 12,
   "metadata": {},
   "outputs": [
    {
     "data": {
      "text/plain": [
       "Index(['C0', 'CO2minus', 'Cofactor (VdW)', 'Cofactor (elec)',\n",
       "       'Cofactor (hbond)', 'Csp2', 'Csp3', 'DOF',\n",
       "       'E-Inter (cofactor - ligand)', 'E-Inter (protein - ligand)',\n",
       "       'E-Inter (water - ligand)', 'E-Inter total', 'E-Intra (clash)',\n",
       "       'E-Intra (elec)', 'E-Intra (hbond)', 'E-Intra (sp2-sp2)',\n",
       "       'E-Intra (steric)', 'E-Intra (tors)', 'E-Intra (tors, ligand atoms)',\n",
       "       'E-Intra (vdw)', 'E-Soft Constraint Penalty', 'E-Solvation', 'E-Total',\n",
       "       'Electro', 'ElectroLong', 'Energy', 'Filename', 'HBond', 'HeavyAtoms',\n",
       "       'LE1', 'LE3', 'Ligand', 'MW', 'N', 'Name', 'NoHBond90', 'Nplus', 'OH',\n",
       "       'OPO32minus', 'OS', 'PoseEnergy', 'RMSD', 'RerankScore', 'Run',\n",
       "       'SimilarityScore', 'Steric', 'Torsions', 'VdW (LJ12-6)', 'carbonyl',\n",
       "       'halogen', 'SMILES'],\n",
       "      dtype='object')"
      ]
     },
     "execution_count": 12,
     "metadata": {},
     "output_type": "execute_result"
    }
   ],
   "source": [
    "df = pd.read_csv(\"../../output_docking_AChE/DockingResults-2.mvdresults\", sep = \"\\t\")\n",
    "df.columns"
   ]
  },
  {
   "cell_type": "code",
   "execution_count": 13,
   "metadata": {},
   "outputs": [
    {
     "data": {
      "text/plain": [
       "0       -85.0228\n",
       "1       -83.5312\n",
       "2       -80.2669\n",
       "3      -180.0370\n",
       "4      -178.5070\n",
       "          ...   \n",
       "6964   -132.9250\n",
       "6965   -199.4530\n",
       "6966   -198.4530\n",
       "6967   -193.8140\n",
       "6968         NaN\n",
       "Name: PoseEnergy, Length: 6969, dtype: float64"
      ]
     },
     "execution_count": 13,
     "metadata": {},
     "output_type": "execute_result"
    }
   ],
   "source": [
    "df[\"PoseEnergy\"]"
   ]
  },
  {
   "cell_type": "code",
   "execution_count": null,
   "metadata": {},
   "outputs": [],
   "source": [
    "\n",
    "    \n",
    "    "
   ]
  }
 ],
 "metadata": {
  "kernelspec": {
   "display_name": "Python 3",
   "language": "python",
   "name": "python3"
  },
  "language_info": {
   "codemirror_mode": {
    "name": "ipython",
    "version": 3
   },
   "file_extension": ".py",
   "mimetype": "text/x-python",
   "name": "python",
   "nbconvert_exporter": "python",
   "pygments_lexer": "ipython3",
   "version": "3.8.5"
  }
 },
 "nbformat": 4,
 "nbformat_minor": 4
}
