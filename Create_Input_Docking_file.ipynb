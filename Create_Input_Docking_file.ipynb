{
 "cells": [
  {
   "cell_type": "markdown",
   "metadata": {},
   "source": [
    "# WE NEED THE \"df_filter\"  OUTPUT OF \"Project_AChE\" NOTEBOOK"
   ]
  },
  {
   "cell_type": "code",
   "execution_count": 1,
   "metadata": {},
   "outputs": [],
   "source": [
    "import pandas as pd"
   ]
  },
  {
   "cell_type": "markdown",
   "metadata": {},
   "source": [
    "# # Organize File Input_Docking (AT THE BEGINING OF READED FILE PLEASE PUT : \"\"ELEMENT\"\")"
   ]
  },
  {
   "cell_type": "code",
   "execution_count": 2,
   "metadata": {},
   "outputs": [
    {
     "name": "stdout",
     "output_type": "stream",
     "text": [
      "      BindingDB_Reactant_set_id                      Name  \\\n",
      "0                        189668                   tacrine   \n",
      "1                      51223275                             \n",
      "2                      51223289                             \n",
      "3                        189665     BindingDB_86769_mol_1   \n",
      "4                        189667     BindingDB_86771_mol_1   \n",
      "...                         ...                       ...   \n",
      "4844                   51036767  BindingDB_50423744_mol_1   \n",
      "4845                   51036769  BindingDB_50423746_mol_1   \n",
      "4846                   51036770  BindingDB_50423747_mol_1   \n",
      "4847                   51036768  BindingDB_50423745_mol_1   \n",
      "4848                   51036766  BindingDB_50423743_mol_1   \n",
      "\n",
      "                                         Ligand_SMILES     IC50 (nM)  \\\n",
      "0                                Nc1c2CCCCc2nc2ccccc12  5.460000e-06   \n",
      "1                     CCC(=O)N1CCCC2(O)C1N(C)c1ccccc21  1.000000e-05   \n",
      "2            CN1C2N(CCCC2(O)c2ccccc12)C(=O)c1ccc(F)cc1  1.000000e-04   \n",
      "3         NNc1ccc(cn1)C(=O)NCCCCCNc1c2CCCCc2nc2ccccc12  3.080000e-04   \n",
      "4     NNc1ccc(cc1)C(=O)NCCCCCCCCCNc1c2CCCCc2nc2ccccc12  3.700000e-04   \n",
      "...                                                ...           ...   \n",
      "4844                  CCCCc1cc(C2=NOC(CO)C2)c(Cl)[nH]1  2.098940e+07   \n",
      "4845            CCCCc1cc(C2=NOC(C2)C(=O)OCC)c(Cl)[nH]1  6.966265e+07   \n",
      "4846      CCCCc1cc(C2=NOC(C2)C(=O)Oc2ccccc2)c(Cl)[nH]1  7.211075e+07   \n",
      "4847            CCCCc1cc(C2=NOC(CC(=O)OC)C2)c(Cl)[nH]1  1.603245e+08   \n",
      "4848             CCCCc1cc(C2=NOC(C2)C(=O)OC)c(Cl)[nH]1  2.409905e+08   \n",
      "\n",
      "          pIC50  \n",
      "0     14.262807  \n",
      "1     14.000000  \n",
      "2     13.000000  \n",
      "3     12.511449  \n",
      "4     12.431798  \n",
      "...         ...  \n",
      "4844   1.678000  \n",
      "4845   1.157000  \n",
      "4846   1.142000  \n",
      "4847   0.795000  \n",
      "4848   0.618000  \n",
      "\n",
      "[4849 rows x 5 columns]\n"
     ]
    }
   ],
   "source": [
    "##  ELEMENT = $$$$\n",
    "\n",
    "df_filter = pd.read_csv(\"./df_filter\", sep='\\t', decimal='.', index_col = 0)\n",
    "\n",
    "print(df_filter)\n",
    "with open (\"../ACETYLCHOLINESTERASE_3D.sdf\", \"r\", encoding = \"utf-8\") as f:\n",
    "        molecules3D_1 = f.readlines()\n",
    "\n",
    "idx = 0\n",
    "docking = []\n",
    "\n",
    "for i in df_filter.iloc[:,0]:\n",
    "    idx = molecules3D_1.index(str(i) + \"\\n\") -5\n",
    "    Lista = []    \n",
    "    while molecules3D_1[idx] != \"$$$$\\n\":\n",
    "        Lista. append (molecules3D_1[idx])\n",
    "        idx -= 1\n",
    "    \n",
    "    Lista. append (molecules3D_1[idx])\n",
    "    docking.append (Lista[::-1])"
   ]
  },
  {
   "cell_type": "markdown",
   "metadata": {},
   "source": [
    "# Save File Input_Docking (AT THE BEGINING OF SAVED FILE PLEASE ERASE : \"\"ELEMENT\"\")"
   ]
  },
  {
   "cell_type": "code",
   "execution_count": 3,
   "metadata": {},
   "outputs": [],
   "source": [
    "##  ELEMENT = $$$$\n",
    "\n",
    "with open(\"./input_molecules_docking.sdf\", \"w\", encoding = \"utf-8\") as a:\n",
    "    for i in docking:\n",
    "        for x in i:\n",
    "            Docking = a.writelines(x)"
   ]
  },
  {
   "cell_type": "code",
   "execution_count": null,
   "metadata": {},
   "outputs": [],
   "source": []
  }
 ],
 "metadata": {
  "kernelspec": {
   "display_name": "Python 3",
   "language": "python",
   "name": "python3"
  },
  "language_info": {
   "codemirror_mode": {
    "name": "ipython",
    "version": 3
   },
   "file_extension": ".py",
   "mimetype": "text/x-python",
   "name": "python",
   "nbconvert_exporter": "python",
   "pygments_lexer": "ipython3",
   "version": "3.8.5"
  }
 },
 "nbformat": 4,
 "nbformat_minor": 4
}
