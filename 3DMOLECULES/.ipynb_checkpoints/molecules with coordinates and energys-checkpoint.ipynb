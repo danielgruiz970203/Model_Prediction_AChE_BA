{
 "cells": [
  {
   "cell_type": "code",
   "execution_count": null,
   "metadata": {},
   "outputs": [],
   "source": [
    "with open(\"ACETYLCHOLINESTERASE_3D.sdf\",encoding=\"mbcs\") as d:\n",
    "    des1=d.readlines()\n",
    "des1\n",
    "with open(\"ACETYLCHOLINESTERASE__ACHE__3D.sdf\") as g:\n",
    "    des2=g.readlines()\n",
    "des2\n",
    "with open(\"ACETYLCHOLINESTERASE_AND_BUTYRYLCHOLINESTERASE__ACHE_AND_BCHE__3D.sdf\") as h:\n",
    "    des3=h.readlines()\n",
    "des3"
   ]
  },
  {
   "cell_type": "code",
   "execution_count": null,
   "metadata": {},
   "outputs": [],
   "source": [
    "def clean_3D(variavel_arquivo, data ):\n",
    "    pos=0 \n",
    "    posini=0\n",
    "    posfin=1\n",
    "    A=[]\n",
    "    moleculas_Data_pIC50_norm_Descriptors=[]\n",
    "    for linhasa in list(data.loc[:,\"BindingDB Reactant_set_id\"]):\n",
    "        A.append(str(linhasa).split(\" \"))\n",
    "\n",
    "    for l in range(0,len(variavel_arquivo)):\n",
    "        if variavel_arquivo[l].startswith(\"$$$$\"):\n",
    "            posini=l\n",
    "     \n",
    "        if variavel_arquivo[l].startswith(\"> <BindingDB Reactant_set_id>\"):\n",
    "            l+=1\n",
    "                \n",
    "            if int(variavel_arquivo[l]) in list(data.loc[:,\"BindingDB Reactant_set_id\"]):\n",
    "                posfin=l\n",
    "            \n",
    "                while not variavel_arquivo[posfin].startswith(\"$$$$\"):\n",
    "                    posfin+=1\n",
    "                for i in range(posini,posfin):    \n",
    "                    moleculas_Data_pIC50_norm_Descriptors.append(variavel_arquivo[i])\n",
    "    return moleculas_Data_pIC50_norm_Descriptors"
   ]
  },
  {
   "cell_type": "code",
   "execution_count": null,
   "metadata": {},
   "outputs": [],
   "source": [
    "ACETYLCHOLINESTERASE_3D=clean_3D(des1,moleculas_Data_pIC50_norm)\n",
    "ACETYLCHOLINESTERASE__ACHE__3D=clean_3D(des2,moleculas_Data_pIC50_norm)\n",
    "ACETYLCHOLINESTERASE_AND_BUTYRYLCHOLINESTERASE__ACHE_AND_BCHE__3D=clean_3D(des3,moleculas_Data_pIC50_norm)\n",
    "\n",
    "print(len(ACETYLCHOLINESTERASE_3D))\n",
    "print(len(ACETYLCHOLINESTERASE__ACHE__3D))\n",
    "print(len(ACETYLCHOLINESTERASE_AND_BUTYRYLCHOLINESTERASE__ACHE_AND_BCHE__3D))\n",
    "\n",
    "molecules_filter=ACETYLCHOLINESTERASE_3D+ACETYLCHOLINESTERASE__ACHE__3D+ACETYLCHOLINESTERASE_AND_BUTYRYLCHOLINESTERASE__ACHE_AND_BCHE__3D\n",
    "\n",
    "\n"
   ]
  },
  {
   "cell_type": "code",
   "execution_count": null,
   "metadata": {},
   "outputs": [],
   "source": [
    "with open(\"moleculas3D_Data_pIC50_norm_Descriptors_input.sdf\", 'w', encoding=\"mbcs\") as Des:\n",
    "    for item in molecules_filter:\n",
    "        Des.write(\"{}\".format(item))"
   ]
  }
 ],
 "metadata": {
  "kernelspec": {
   "display_name": "Python 3",
   "language": "python",
   "name": "python3"
  },
  "language_info": {
   "codemirror_mode": {
    "name": "ipython",
    "version": 3
   },
   "file_extension": ".py",
   "mimetype": "text/x-python",
   "name": "python",
   "nbconvert_exporter": "python",
   "pygments_lexer": "ipython3",
   "version": "3.8.5"
  }
 },
 "nbformat": 4,
 "nbformat_minor": 4
}
